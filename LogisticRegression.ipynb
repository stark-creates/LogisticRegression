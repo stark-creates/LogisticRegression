{
 "cells": [
  {
   "cell_type": "code",
   "execution_count": 1,
   "metadata": {},
   "outputs": [],
   "source": [
    "#importing required libraries\n",
    "import numpy as np\n",
    "import pandas as pd\n",
    "import statistics as stat\n",
    "import matplotlib.pyplot as plt"
   ]
  },
  {
   "attachments": {},
   "cell_type": "markdown",
   "metadata": {},
   "source": [
    "Importing the Dataset"
   ]
  },
  {
   "cell_type": "code",
   "execution_count": 2,
   "metadata": {},
   "outputs": [],
   "source": [
    "path=\"C:/Users/AnshK/Downloads/data.csv\"\n",
    "data= pd.read_csv(path)\n",
    "\n",
    "y=data[\"diagnosis\"]\n",
    "y=np.array(y)\n",
    "\n",
    "for i in range(569):             #changing y from M and B to 0 and 1\n",
    "  if y[i]==\"M\":\n",
    "    y[i]=0\n",
    "  else:\n",
    "    y[i]=1\n",
    "data=pd.DataFrame(data)\n",
    "x=data[data.columns[2:]]"
   ]
  },
  {
   "attachments": {},
   "cell_type": "markdown",
   "metadata": {},
   "source": [
    "Creating a Logistic Regression Class to Implement the Model"
   ]
  },
  {
   "cell_type": "code",
   "execution_count": 3,
   "metadata": {},
   "outputs": [],
   "source": [
    "class LogReg:\n",
    "    def __init__(self, alpha=0.01, lambda_=0.1, num_iters=1000, batch_size=None, threshold=0.5):              #parameters for LogReg\n",
    "        self.alpha = alpha\n",
    "        self.lambda_ = lambda_\n",
    "        self.num_iters = num_iters\n",
    "        self.batch_size = batch_size\n",
    "        self.threshold = threshold\n",
    "        \n",
    "    def sigmoid(self, z):                                                                                     #sigmoid fxn\n",
    "        return 1 / (1 + np.exp(-z.astype(float)))\n",
    "        \n",
    "    def fit(self, X, y, gradient_descent_type='batch'):                                                       #fit fxn with grad desc\n",
    "        # Add a column of ones to the input matrix\n",
    "        X = np.hstack((np.ones((X.shape[0], 1)), X))\n",
    "        # Initialize model parameters\n",
    "        self.w = np.zeros(X.shape[1])\n",
    "        # Define the cost function\n",
    "        def cost_function(w, X, y, lambda_):\n",
    "            z = np.dot(X, w)\n",
    "            h = self.sigmoid(z)\n",
    "            J = -(1/X.shape[0]) * (np.dot(y, np.log(h)) + np.dot(1-y, np.log(1-h))) + (lambda_/(2*X.shape[0])) * np.sum(w**2)\n",
    "            return J\n",
    "        # Define the gradient of the cost function\n",
    "        def gradient(w, X, y, lambda_):\n",
    "            z = np.dot(X, w)\n",
    "            h = self.sigmoid(z)\n",
    "            grad = (1/X.shape[0]) * np.dot(X.T, h-y) + (lambda_/X.shape[0]) * w\n",
    "            return grad\n",
    "        # Train the model using gradient descent\n",
    "        cost_history = []\n",
    "        for i in range(self.num_iters):\n",
    "            if gradient_descent_type == 'batch':                     # Batch gradient descent\n",
    "                grad = gradient(self.w, X, y, self.lambda_)\n",
    "                \n",
    "            elif gradient_descent_type == 'stochastic':              # Stochastic gradient descent with mini-batch size 1\n",
    "                indices = np.random.choice(X.shape[0], 1, replace=False)\n",
    "                X_batch = X[indices,:]\n",
    "                y_batch = y[indices]\n",
    "                grad = gradient(self.w, X_batch, y_batch, self.lambda_)\n",
    "                \n",
    "            elif gradient_descent_type == 'mini-batch':               # Mini-batch gradient descent with batch size self.batch_size\n",
    "                indices = np.random.choice(X.shape[0], self.batch_size, replace=False)\n",
    "                X_batch = X[indices,:]\n",
    "                y_batch = y[indices]\n",
    "                grad = gradient(self.w, X_batch, y_batch, self.lambda_)\n",
    "            else:\n",
    "                raise ValueError('Invalid gradient descent type')\n",
    "                \n",
    "            self.w = self.w - self.alpha * grad\n",
    "            cost = cost_function(self.w, X, y, self.lambda_)\n",
    "            cost_history.append(cost)\n",
    "            \n",
    "        self.cost_history = cost_history\n",
    "        \n",
    "    def predict(self, X):                                                      # predict fxn\n",
    "        # Add bias term to feature matrix\n",
    "        X = np.insert(X, 0, 1, axis=1)\n",
    "        probability = self.sigmoid(X.dot(self.w))\n",
    "        return (probability >= self.threshold)\n",
    "\n",
    "    def accuracy(self, X, y):                                                  # fxn for accuracy\n",
    "        y_pred = self.predict(X)\n",
    "        return np.mean(y_pred == y)\n",
    "    \n",
    "    def precision_recall(self, X, y):                                          # fxn for precision and recall\n",
    "        y_pred = self.predict(X)\n",
    "        truepos, falsepos, trueneg, falseneg=0,0,0,0\n",
    "        for i in range(np.size(y)):\n",
    "            if (y[i]==0) & (y_pred[i]==0):\n",
    "                trueneg=trueneg+1\n",
    "            elif (y[i]==1) & (y_pred[i]==1):\n",
    "                truepos=truepos+1\n",
    "            elif (y[i]==1) & (y_pred[i]==0):\n",
    "                falseneg=falseneg+1\n",
    "            else:\n",
    "                trueneg=trueneg+1\n",
    "        \n",
    "        precision= truepos/(truepos+falsepos)\n",
    "        recall= truepos/(truepos+falseneg)\n",
    "        \n",
    "        return precision, recall\n",
    "            \n",
    "\n",
    "    def plot_cost_history(self):                                              # fxn to plot cost history\n",
    "        plt.plot(self.cost_history)\n",
    "        plt.xlabel('Iterations')\n",
    "        plt.ylabel('Cost')\n",
    "        plt.title('Cost function over iterations')\n",
    "        plt.show()\n"
   ]
  },
  {
   "attachments": {},
   "cell_type": "markdown",
   "metadata": {},
   "source": [
    "Applying Feature Engineering (Please comment out this code for LR1)"
   ]
  },
  {
   "cell_type": "code",
   "execution_count": 4,
   "metadata": {},
   "outputs": [
    {
     "name": "stderr",
     "output_type": "stream",
     "text": [
      "C:\\Users\\AnshK\\AppData\\Local\\Temp\\ipykernel_28440\\789286698.py:9: SettingWithCopyWarning: \n",
      "A value is trying to be set on a copy of a slice from a DataFrame.\n",
      "Try using .loc[row_indexer,col_indexer] = value instead\n",
      "\n",
      "See the caveats in the documentation: https://pandas.pydata.org/pandas-docs/stable/user_guide/indexing.html#returning-a-view-versus-a-copy\n",
      "  x[col] = x[col].fillna(x[col].mean())\n"
     ]
    }
   ],
   "source": [
    "def fe1(x):\n",
    "  for col in x.columns:\n",
    "    if x[col].isna().sum() > 0:\n",
    "        # check if column is categorical\n",
    "        if x[col].dtype == 'object':\n",
    "            x[col] = x[col].fillna(x[col].mode()[0])\n",
    "        # if column is numerical\n",
    "        else:\n",
    "            x[col] = x[col].fillna(x[col].mean())\n",
    "\n",
    "  return x\n",
    "\n",
    "x=fe1(x)\n",
    "\n",
    "def fe2(x):\n",
    "  means = np.mean(x, axis=0)\n",
    "  stds = np.std(x, axis=0)\n",
    "\n",
    "  X_norm = (x - means) / stds\n",
    "\n",
    "  return X_norm\n",
    "\n",
    "x=fe2(x)"
   ]
  },
  {
   "attachments": {},
   "cell_type": "markdown",
   "metadata": {},
   "source": [
    "Splitting the Dataset into Test and Train Values"
   ]
  },
  {
   "cell_type": "code",
   "execution_count": 5,
   "metadata": {},
   "outputs": [
    {
     "name": "stdout",
     "output_type": "stream",
     "text": [
      "[]\n",
      "[]\n"
     ]
    }
   ],
   "source": [
    "x=x.dropna()    #used for LR1 to drop NaN values     \n",
    "\n",
    "X=np.array(x)\n",
    "np.random.seed(1)                                  #we can change seed value to randomize indices\n",
    "indices = np.arange(X.shape[0])                    #creates array assigning number to each row [0,1,2-----]\n",
    "np.random.shuffle(indices)                         #randomly shuffles the data\n",
    "test_size = 0.33\n",
    "\n",
    "#split the data into training and testing sets\n",
    "split_index = int(X.shape[0] * (1 - test_size))\n",
    "train_indices, test_indices = indices[:split_index], indices[split_index:]\n",
    "\n",
    "X_train, y_train = X[train_indices], y[train_indices]\n",
    "X_test, y_test = X[test_indices], y[test_indices]\n",
    "\n",
    "\n",
    "print(np.argwhere(np.isnan(X_test)))\n",
    "print(np.argwhere(np.isnan(X_train)))"
   ]
  },
  {
   "attachments": {},
   "cell_type": "markdown",
   "metadata": {},
   "source": [
    "Implementing Model to the dataset "
   ]
  },
  {
   "cell_type": "code",
   "execution_count": 15,
   "metadata": {},
   "outputs": [
    {
     "name": "stdout",
     "output_type": "stream",
     "text": [
      "Accuracy: 0.9840425531914894\n",
      "Precision: 1.0\n",
      "Recall 1.0\n"
     ]
    },
    {
     "data": {
      "image/png": "[encoded data removed]",
      "text/plain": [
       "<Figure size 640x480 with 1 Axes>"
      ]
     },
     "metadata": {},
     "output_type": "display_data"
    }
   ],
   "source": [
    "model = LogReg(alpha=0.001, lambda_=0.1, num_iters=17000, threshold=0.5)\n",
    "\n",
    "# Fit the model to the training data\n",
    "model.fit(X_train, y_train, gradient_descent_type = 'batch')\n",
    "\n",
    "# Make predictions on test data\n",
    "y_pred = model.predict(X_test)\n",
    "\n",
    "# Evaluate model performance on test data\n",
    "accuracy = model.accuracy(X_test, y_test)\n",
    "print(\"Accuracy:\", accuracy)\n",
    "\n",
    "precision, recall= model.precision_recall(X_test, y_test)\n",
    "print(\"Precision:\", precision)\n",
    "print(\"Recall\", recall)\n",
    "\n",
    "# Optionally, visualize cost function over iterations\n",
    "model.plot_cost_history()"
   ]
  }
 ],
 "metadata": {
  "kernelspec": {
   "display_name": "Python 3",
   "language": "python",
   "name": "python3"
  },
  "language_info": {
   "codemirror_mode": {
    "name": "ipython",
    "version": 3
   },
   "file_extension": ".py",
   "mimetype": "text/x-python",
   "name": "python",
   "nbconvert_exporter": "python",
   "pygments_lexer": "ipython3",
   "version": "3.10.9"
  },
  "orig_nbformat": 4
 },
 "nbformat": 4,
 "nbformat_minor": 2
}
